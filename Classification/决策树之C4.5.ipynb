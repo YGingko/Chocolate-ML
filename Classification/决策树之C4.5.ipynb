{
 "cells": [
  {
   "cell_type": "markdown",
   "metadata": {},
   "source": [
    "# 决策树之C4.5算法"
   ]
  },
  {
   "cell_type": "markdown",
   "metadata": {},
   "source": [
    "针对ID3算法的四点不足，C4.5进行了改进："
   ]
  },
  {
   "cell_type": "markdown",
   "metadata": {},
   "source": [
    "## 1. 针对ID3不能处理连续特征问题\n",
    "对样本中连续特征取值进行排序，取相邻两样本值的平均值作为划分点，将样本分为两类。计算每个划分点的信息增益，选取信息增益最大的点作为该连续特征的二元离散分类点。\n",
    "\n",
    "**连续特征节点可以反复参与子节点的选择过程**"
   ]
  },
  {
   "cell_type": "markdown",
   "metadata": {},
   "source": [
    "## 2. 信息增益容易偏向于取值多的特征\n",
    "引入信息增益比变量$ I_R (X, Y) $，表示信息增益和特征熵的比值。\n",
    "$$ I_R(D,A) = \\frac{I(A,D)}{H_A(D)} $$\n",
    "其中，$ H_A(D) = - \\sum_{i=1}^n \\frac{\\mid D_i \\mid}{\\mid D \\mid} \\log_2\\frac{\\mid D_i \\mid}{\\mid D \\mid} $"
   ]
  },
  {
   "cell_type": "markdown",
   "metadata": {},
   "source": [
    "## 3. 缺失值处理\n",
    "在选取特征节点、计算信息增益比时，依据缺失比例，利用未缺失样本计算信息增益比。\n",
    "\n",
    "特征节点选定后，样本缺失数据可赋值常用值或均值填充"
   ]
  },
  {
   "cell_type": "markdown",
   "metadata": {},
   "source": [
    "## 过拟合问题\n",
    "引入正则化系数剪枝"
   ]
  }
 ],
 "metadata": {
  "kernelspec": {
   "display_name": "Python 3",
   "language": "python",
   "name": "python3"
  },
  "language_info": {
   "codemirror_mode": {
    "name": "ipython",
    "version": 3
   },
   "file_extension": ".py",
   "mimetype": "text/x-python",
   "name": "python",
   "nbconvert_exporter": "python",
   "pygments_lexer": "ipython3",
   "version": "3.6.5"
  }
 },
 "nbformat": 4,
 "nbformat_minor": 2
}
