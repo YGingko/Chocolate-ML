{
 "cells": [
  {
   "cell_type": "markdown",
   "metadata": {},
   "source": [
    "# scikit-learn 逻辑回归类库"
   ]
  },
  {
   "cell_type": "markdown",
   "metadata": {},
   "source": [
    "scikit-learn中，逻辑回归类：\n",
    "\n",
    "1. LogisticRegression:需要指定一个正则化系数\n",
    "2. LogisticRegressionCV:使用交叉验证来选择正则化系数C\n",
    "3. logistic_regression_path:不能直接做预测，只能为拟合数据选择合适逻辑回归系数和正则化系数。用于模型选择的时候。\n",
    "4. RandomizedLogisticRegression:用L1正则化逻辑回归来做特征选择，维度规约算法"
   ]
  },
  {
   "cell_type": "markdown",
   "metadata": {},
   "source": [
    "## 正则化选择参数：penalty"
   ]
  },
  {
   "cell_type": "markdown",
   "metadata": {},
   "source": [
    "LogisticRegression和LogisticRegressionCV默认携带正则化项。penalty参数可选择值为‘l1’（l1正则化）和‘l2’（l2正则化）。默认为l2正则化。"
   ]
  },
  {
   "cell_type": "markdown",
   "metadata": {},
   "source": [
    "1. 调参时，如果只是为了解决过拟合问题，一般选择L2正则化就够了，若仍然过拟合，则可考虑L1正则化\n",
    "2. 若模型特征非常多，希望一些不重要的特征系数归零，模型系数稀疏化，可用L1正则化\n",
    "3. L2正则化损失函数连续可导，相应损失函数优化算法可选择：‘newton-cg’, ‘lbfgs’, ‘liblinear’, ‘sag’四种\n",
    "4. L1正则化损失函数不是连续可导的，相应损失函数优化算法只能选择：‘liblinear’。因为‘newton-cg’, ‘lbfgs’, ‘sag’要求损失函数一阶或二阶连续可导。"
   ]
  },
  {
   "cell_type": "markdown",
   "metadata": {},
   "source": [
    "## 优化算法选择函数：solver"
   ]
  },
  {
   "cell_type": "markdown",
   "metadata": {},
   "source": [
    "逻辑回归损失函数优化方法有四种：\n",
    "\n",
    "1. liblinear: 使用开源liblinear库实现，内部使用坐标轴下降法来迭代优化损失函数。只支持OvR，不支持MvM。\n",
    "2. lbfgs: 拟牛顿法的一种，利用损失函数二阶导数矩阵即海森矩阵来迭代优化损失函数。\n",
    "3. newton-cg: 利用损失函数二阶导数矩阵即海森矩阵来迭代优化损失函数。\n",
    "4. sag: 随机平均梯度下降法，是梯度下降法的变种，和普通梯度下降法的区别是每次迭代仅仅用一部分的样本来计算梯度，适合于样本数据多的时候。\n",
    "\n",
    "newton-cg, lbfgs和sag都需要损失函数的一阶或者二阶连续导数，不能用于L1正则化，只能用于L2正则化。liblinear既可以用于L1正则化，也可用于L2正则化。"
   ]
  },
  {
   "cell_type": "markdown",
   "metadata": {},
   "source": [
    "## 分类方式选择参数: multi_class"
   ]
  },
  {
   "cell_type": "markdown",
   "metadata": {},
   "source": [
    "可取值ovr 和 multinomial，默认取值ovr。\n",
    "\n",
    "OvR（one-vs-rest）: 对于第K类的分类决策，将所有第K类样本作为正例，其余样本作为负例，然后做二元逻辑回顾，得到第K类分类模型。一次类推。soler可选择liblinear，newton-cg, lbfgs和sag。\n",
    "\n",
    "MvM（many-vs-many）: multinomial,特例OvO（one-vs-one）。soler只能选择newton-cg，lbfgs和sag。"
   ]
  },
  {
   "cell_type": "markdown",
   "metadata": {},
   "source": [
    "## 类型权重参数：class_weight"
   ]
  },
  {
   "cell_type": "markdown",
   "metadata": {},
   "source": [
    "标示模型中各种不同类型的权重。若不输入，则表明不考虑权重。若输入，可以设为balance（类库自己计算类型权重，类型样本越多，权重越低，样本越少，权重越高），或自己输入权重。\n",
    "\n",
    "应用场景:\n",
    "\n",
    "1. 误分类代价很高，需要对代价高的类别增大权重。\n",
    "2. 样本高度失衡，可以选择balanced，让类库自动提高非法用户样本的权重。"
   ]
  },
  {
   "cell_type": "markdown",
   "metadata": {},
   "source": [
    "## 样本权重参数: sample_weight"
   ]
  },
  {
   "cell_type": "markdown",
   "metadata": {},
   "source": [
    "解决样本不平衡问题"
   ]
  }
 ],
 "metadata": {
  "kernelspec": {
   "display_name": "Python 3",
   "language": "python",
   "name": "python3"
  },
  "language_info": {
   "codemirror_mode": {
    "name": "ipython",
    "version": 3
   },
   "file_extension": ".py",
   "mimetype": "text/x-python",
   "name": "python",
   "nbconvert_exporter": "python",
   "pygments_lexer": "ipython3",
   "version": "3.6.5"
  }
 },
 "nbformat": 4,
 "nbformat_minor": 2
}
