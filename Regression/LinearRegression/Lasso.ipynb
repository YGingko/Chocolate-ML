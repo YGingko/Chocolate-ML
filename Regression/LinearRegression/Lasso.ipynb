{
 "cells": [
  {
   "cell_type": "markdown",
   "metadata": {},
   "source": [
    "# Ridge回归"
   ]
  },
  {
   "cell_type": "markdown",
   "metadata": {},
   "source": [
    "Lasso回归有时也叫做线性回归的L1正则化，和Ridge回归的主要区别就是在正则化项，Ridge回归用的是L2正则化，而Lasso回归用的是L1正则化。\n",
    "\n",
    "Lasso回归损失函数为：\n",
    "\n",
    "$$\n",
    "    J(\\theta) = \\frac{1}{2n}{(X\\theta-Y)^T}(X\\theta-Y) + \\alpha{\\parallel \\alpha \\parallel_1}\n",
    "$$\n",
    "\n",
    "其中n为样本个数，$\\alpha$ 为常数系数， 需要进行调优。$\\parallel \\alpha \\parallel_1$为L1范数。"
   ]
  },
  {
   "cell_type": "markdown",
   "metadata": {},
   "source": [
    "<font color=#FF0033><strong>Lasso回归使得一些系数变小，甚至还是一些绝对值较小的系数直接变为0，因此特别适用于参数数目缩减与参数的选择，因而用来估计稀疏参数的线性模型。</strong></font>"
   ]
  },
  {
   "cell_type": "markdown",
   "metadata": {},
   "source": [
    "由于L1范数用的是绝对值之和，导致Lasso回归损失函数有不可导的点。无法用最小二乘法，梯度下降法，牛顿法与拟牛顿法求解。一般采用坐标轴下降法（coordinate descent）和最小角回归法（ Least Angle Regression， LARS）求解。"
   ]
  }
 ],
 "metadata": {
  "kernelspec": {
   "display_name": "Python 3",
   "language": "python",
   "name": "python3"
  },
  "language_info": {
   "codemirror_mode": {
    "name": "ipython",
    "version": 3
   },
   "file_extension": ".py",
   "mimetype": "text/x-python",
   "name": "python",
   "nbconvert_exporter": "python",
   "pygments_lexer": "ipython3",
   "version": "3.6.5"
  }
 },
 "nbformat": 4,
 "nbformat_minor": 2
}
